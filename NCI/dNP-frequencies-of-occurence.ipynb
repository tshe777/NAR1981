{
 "cells": [
  {
   "cell_type": "code",
   "execution_count": 2,
   "metadata": {},
   "outputs": [],
   "source": [
    "import matplotlib as plt\n",
    "import pandas as pd\n",
    "import numpy as np\n"
   ]
  },
  {
   "cell_type": "code",
   "execution_count": 3,
   "metadata": {},
   "outputs": [
    {
     "name": "stdout",
     "output_type": "stream",
     "text": [
      "GAGTTTTATCGCTTCCATGACGCAGAAGTTAACACTTTCGGATATTTCTGATGAGTCGAAAAATTATCTTGATAAAGCAGGAATTACTACTGCTTGTTTACGAATTAAATCGAAGTGGACTGCTGGCGGAAAATGAGAAAATTCGACCTATCCTTGCGCAGCTCGAGAAGCTCTTACTTTGCGACCTTTCGCCATCAACTAACGATTCTGTCAAAAACTGACGCGTTGGATGAGGAGAAGTGGCTTAATATGCTTGGCACGTTCGTCAAGGACTGGTTTAGATATGAGTCACATTTTGTTCATGGTAGAGATTCTCTTGTTGACATTTTAAAAGAGCGTGGATTACTATCTGAGTCCGATGCTGTTCAACCACTAATAGGTAAGAAATCATGAGTCAAGTTACTGAACAATCCGTACGTTTCCAGACCGCTTTGGCCTCTATTAAGCTCATTCAGGCTTCTGCCGTTTTGGATTTAACCGAAGATGATTTCGATTTTCTGACGAGTAACAAAGTTTGGATTGCTACTGACCGCTCTCGTGCTCGTCGCTGCGTTGAGGCTTGCGTTTATGGTACGCTGGACTTTGTGGGATACCCTCGCTTTCCTGCTCCTGTTGAGTTTATTGCTGCCGTCATTGCTTATTATGTTCATCCCGTCAACATTCAAACGGCCTGTCTCATCATGGAAGGCGCTGAATTTACGGAAAACATTATTAATGGCGTCGAGCGTCCGGTTAAAGCCGCTGAATTGTTCGCGTTTACCTTGCGTGTACGCGCAGGAAACACTGACGTTCTTACTGACGCAGAAGAAAACGTGCGTCAAAAATTACGTGCGGAAGGAGTGATGTAATGTCTAAAGGTAAAAAACGTTCTGGCGCTCGCCCTGGTCGTCCGCAGCCGTTGCGAGGTACTAAAGGCAAGCGTAAAGGCGCTCGTCTTTGGTATGTAGGTGGTCAACAATTTTAATTGCAGGGGCTTCGGCCCCTTACTTGAGGATAAATTATGTCTAATATTCAAACTGGCGCCGAGCGTATGCCGCATGACCTTTCCCATCTTGGCTTCCTTGCTGGTCAGATTGGTCGTCTTATTACCATTTCAACTACTCCGGTTATCGCTGGCGACTCCTTCGAGATGGACGCCGTTGGCGCTCTCCGTCTTTCTCCATTGCGTCGTGGCCTTGCTATTGACTCTACTGTAGACATTTTTACTTTTTATGTCCCTCATCGTCACGTTTATGGTGAACAGTGGATTAAGTTCATGAAGGATGGTGTTAATGCCACTCCTCTCCCGACTGTTAACACTACTGGTTATATTGACCATGCCGCTTTTCTTGGCACGATTAACCCTGATACCAATAAAATCCCTAAGCATTTGTTTCAGGGTTATTTGAATATCTATAACAACTATTTTAAAGCGCCGTGGATGCCTGACCGTACCGAGGCTAACCCTAATGAGCTTAATCAAGATGATGCTCGTTATGGTTTCCGTTGCTGCCATCTCAAAAACATTTGGACTGCTCCGCTTCCTCCTGAGACTGAGCTTTCTCGCCAAATGACGACTTCTACCACATCTATTGACATTATGGGTCTGCAAGCTGCTTATGCTAATTTGCATACTGACCAAGAACGTGATTACTTCATGCAGCGTTACCATGATGTTATTTCTTCATTTGGAGGTAAAACCTCTTATGACGCTGACAACCGTCCTTTACTTGTCATGCGCTCTAATCTCTGGGCATCTGGCTATGATGTTGATGGAACTGACCAAACGTCGTTAGGCCAGTTTTCTGGTCGTGTTCAACAGACCTATAAACATTCTGTGCCGCGTTTCTTTGTTCCTGAGCATGGCACTATGTTTACTCTTGCGCTTGTTCGTTTTCCGCCTACTGCGACTAAAGAGATTCAGTACCTTAACGCTAAAGGTGCTTTGACTTATACCGATATTGCTGGCGACCCTGTTTTGTATGGCAACTTGCCGCCGCGTGAAATTTCTATGAAGGATGTTTTCCGTTCTGGTGATTCGTCTAAGAAGTTTAAGATTGCTGAGGGTCAGTGGTATCGTTATGCGCCTTCGTATGTTTCTCCTGCTTATCACCTTCTTGAAGGCTTCCCATTCATTCAGGAACCGCCTTCTGGTGATTTGCAAGAACGCGTACTTATTCGCCACCATGATTATGACCAGTGTTTCCAGTCCGTTCAGTTGTTGCAGTGGAATAGTCAGGTTAAATTTAATGTGACCGTTTATCGCAATCTGCCGACCACTCGCGATTCAATCATGACTTCGTGATAAAAGATTGAGTGTGAGGTTATAACGCCGAAGCGGTAAAAATTTTAATTTTTGCCGCTGAGGGGTTGACCAAGCGAAGCGCGGTAGGTTTTCTGCTTAGGAGTTTAATCATGTTTCAGACTTTTATTTCTCGCCATAATTCAAACTTTTTTTCTGATAAGCTGGTTCTCACTTCTGTTACTCCAGCTTCTTCGGCACCTGTTTTACAGACACCTAAAGCTACATCGTCAACGTTATATTTTGATAGTTTGACGGTTAATGCTGGTAATGGTGGTTTTCTTCATTGCATTCAGATGGATACATCTGTCAACGCCGCTAATCAGGTTGTTTCTGTTGGTGCTGATATTGCTTTTGATGCCGACCCTAAATTTTTTGCCTGTTTGGTTCGCTTTGAGTCTTCTTCGGTTCCGACTACCCTCCCGACTGCCTATGATGTTTATCCTTTGAATGGTCGCCATGATGGTGGTTATTATACCGTCAAGGACTGTGTGACTATTGACGTCCTTCCCCGTACGCCGGGCAATAACGTTTATGTTGGTTTCATGGTTTGGTCTAACTTTACCGCTACTAAATGCCGCGGATTGGTTTCGCTGAATCAGGTTATTAAAGAGATTATTTGTCTCCAGCCACTTAAGTGAGGTGATTTATGTTTGGTGCTATTGCTGGCGGTATTGCTTCTGCTCTTGCTGGTGGCGCCATGTCTAAATTGTTTGGAGGCGGTCAAAAAGCCGCCTCCGGTGGCATTCAAGGTGATGTGCTTGCTACCGATAACAATACTGTAGGCATGGGTGATGCTGGTATTAAATCTGCCATTCAAGGCTCTAATGTTCCTAACCCTGATGAGGCCGCCCCTAGTTTTGTTTCTGGTGCTATGGCTAAAGCTGGTAAAGGACTTCTTGAAGGTACGTTGCAGGCTGGCACTTCTGCCGTTTCTGATAAGTTGCTTGATTTGGTTGGACTTGGTGGCAAGTCTGCCGCTGATAAAGGAAAGGATACTCGTGATTATCTTGCTGCTGCATTTCCTGAGCTTAATGCTTGGGAGCGTGCTGGTGCTGATGCTTCCTCTGCTGGTATGGTTGACGCCGGATTTGAGAATCAAAAAGAGCTTACTAAAATGCAACTGGACAATCAGAAAGAGATTGCCGAGATGCAAAATGAGACTCAAAAAGAGATTGCTGGCATTCAGTCGGCGACTTCACGCCAGAATACGAAAGACCAGGTATATGCACAAAATGAGATGCTTGCTTATCAACAGAAGGAGTCTACTGCTCGCGTTGCGTCTATTATGGAAAACACCAATCTTTCCAAGCAACAGCAGGTTTCCGAGATTATGCGCCAAATGCTTACTCAAGCTCAAACGGCTGGTCAGTATTTTACCAATGACCAAATCAAAGAAATGACTCGCAAGGTTAGTGCTGAGGTTGACTTAGTTCATCAGCAAACGCAGAATCAGCGGTATGGCTCTTCTCATATTGGCGCTACTGCAAAGGATATTTCTAATGTCGTCACTGATGCTGCTTCTGGTGTGGTTGATATTTTTCATGGTATTGATAAAGCTGTTGCCGATACTTGGAACAATTTCTGGAAAGACGGTAAAGCTGATGGTATTGGCTCTAATTTGTCTAGGAAATAACCGTCAGGATTGACACCCTCCCAATTGTATGTTTTCATGCCTCCAAATCTTGGAGGCTTTTTTATGGTTCGTTCTTATTACCCTTCTGAATGTCACGCTGATTATTTTGACTTTGAGCGTATCGAGGCTCTTAAACCTGCTATTGAGGCTTGTGGCATTTCTACTCTTTCTCAATCCCCAATGCTTGGCTTCCATAAGCAGATGGATAACCGCATCAAGCTCTTGGAAGAGATTCTGTCTTTTCGTATGCAGGGCGTTGAGTTCGATAATGGTGATATGTATGTTGACGGCCATAAGGCTGCTTCTGACGTTCGTGATGAGTTTGTATCTGTTACTGAGAAGTTAATGGATGAATTGGCACAATGCTACAATGTGCTCCCCCAACTTGATATTAATAACACTATAGACCACCGCCCCGAAGGGGACGAAAAATGGTTTTTAGAGAACGAGAAGACGGTTACGCAGTTTTGCCGCAAGCTGGCTGCTGAACGCCCTCTTAAGGATATTCGCGATGAGTATAATTACCCCAAAAAGAAAGGTATTAAGGATGAGTGTTCAAGATTGCTGGAGGCCTCCACTATGAAATCGCGTAGAGGCTTTGCTATTCAGCGTTTGATGAATGCAATGCGACAGGCTCATGCTGATGGTTGGTTTATCGTTTTTGACACTCTCACGTTGGCTGACGACCGATTAGAGGCGTTTTATGATAATCCCAATGCTTTGCGTGACTATTTTCGTGATATTGGTCGTATGGTTCTTGCTGCCGAGGGTCGCAAGGCTAATGATTCACACGCCGACTGCTATCAGTATTTTTGTGTGCCTGAGTATGGTACAGCTAATGGCCGTCTTCATTTCCATGCGGTGCACTTTATGCGGACACTTCCTACAGGTAGCGTTGACCCTAATTTTGGTCGTCGGGTACGCAATCGCCGCCAGTTAAATAGCTTGCAAAATACGTGGCCTTATGGTTACAGTATGCCCATCGCAGTTCGCTACACGCAGGACGCTTTTTCACGTTCTGGTTGGTTGTGGCCTGTTGATGCTAAAGGTGAGCCGCTTAAAGCTACCAGTTATATGGCTGTTGGTTTCTATGTGGCTAAATACGTTAACAAAAAGTCAGATATGGACCTTGCTGCTAAAGGTCTAGGAGCTAAAGAATGGAACAACTCACTAAAAACCAAGCTGTCGCTACTTCCCAAGAAGCTGTTCAGAATCAGAATGAGCCGCAACTTCGGGATGAAAATGCTCACAATGACAAATCTGTCCACGGAGTGCTTAATCCAACTTACCAAGCTGGGTTACGACGCGACGCCGTTCAACCAGATATTGAAGCAGAACGCAAAAAGAGAGATGAGATTGAGGCTGGGAAAAGTTACTGTAGCCGACGTTTTGGCGGCGCAACCTGTGACGACAAATCTGCTCAAATTTATGCGCGCTTCGATAAAAATGATTGGCGTATCCAACCTGCA\n"
     ]
    }
   ],
   "source": [
    "inputfile =\"phix174.txt\"\n",
    "f = open(inputfile, \"r\")\n",
    "dna = f.read()\n",
    "   \n",
    "dna = dna.replace(\"\\n\", \"\") \n",
    "dna = dna.replace(\"\\r\", \"\")\n",
    "dna = dna.upper()\n",
    "print(dna)"
   ]
  },
  {
   "cell_type": "code",
   "execution_count": 7,
   "metadata": {},
   "outputs": [
    {
     "name": "stdout",
     "output_type": "stream",
     "text": [
      "{'AA': 293, 'AT': 383, 'AG': 251, 'AC': 261, 'TA': 312, 'TT': 437, 'TG': 480, 'TC': 320, 'GA': 327, 'GT': 325, 'GG': 238, 'GC': 347, 'CA': 257, 'CT': 404, 'CG': 267, 'CC': 198}\n",
      "[25, 3, 26, 0, 11, 6, 19, 2, 4, 15, 0, 4, 0, 26, 27, 2, 10, 0, 21, 7, 19, 60, 0, 34, 5, 5, 1, 10, 7, 1, 33, 30, 3, 24, 1, 145, 5, 19, 7, 7, 0, 7, 19, 8, 32, 24, 1, 0, 8, 0, 11, 10, 5, 4, 0, 0, 45, 4, 4, 29, 1, 4, 31, 9, 5, 80, 141, 9, 7, 10, 22, 43, 10, 1, 0, 5, 22, 7, 1, 7, 31, 4, 7, 2, 36, 0, 45, 40, 12, 14, 1, 51, 0, 17, 25, 30, 6, 31, 9, 82, 16, 4, 49, 14, 9, 28, 1, 4, 65, 19, 19, 1, 63, 10, 4, 16, 21, 15, 0, 18, 5, 5, 0, 5, 23, 3, 28, 29, 3, 14, 55, 12, 26, 7, 40, 7, 46, 79, 31, 40, 1, 28, 13, 22, 10, 25, 69, 17, 0, 20, 21, 1, 28, 11, 6, 7, 43, 7, 11, 36, 28, 13, 3, 41, 61, 2, 0, 10, 0, 3, 6, 4, 17, 0, 8, 0, 37, 4, 17, 0, 17, 3, 32, 0, 4, 7, 2, 25, 10, 4, 21, 5, 3, 2, 9, 32, 6, 36, 11, 52, 19, 1, 7, 7, 19, 10, 2, 22, 20, 42, 42, 38, 5, 14, 10, 7, 8, 39, 25, 43, 3, 6, 7, 6, 11, 9, 1, 20, 7, 0, 13, 4, 22, 11, 9, 19, 7, 0, 2, 7, 12, 23, 34, 3, 83, 4, 58, 4, 55, 64, 19, 12, 9, 0, 91, 13, 37, 7, 1, 0, 23, 13, 2, 3, 1, 6, 0, 3, 16, 1, 9, 4, 8, 10, 0, 7, 4, 19, 3, 6, 25, 10, 4, 3, 0, 23, 0, 28, 11, 8, 18, 0, 15]\n",
      "[7, 7, 23, 0, 5, 10, 1, 4, 9, 19, 3, 22, 6, 7, 42, 9, 23, 16, 0, 30, 0, 7, 7, 7, 12, 15, 4, 9, 15, 9, 1, 18, 29, 7, 20, 10, 1, 4, 24, 47, 20, 29, 10, 5, 1, 4, 9, 16, 1, 12, 11, 1, 2, 29, 76, 17, 3, 92, 14, 4, 28, 2, 1, 5, 0, 19, 5, 10, 21, 10, 4, 16, 19, 30, 17, 16, 11, 7, 10, 12, 7, 5, 7, 34, 0, 5, 18, 8, 4, 3, 8, 13, 4, 0, 2, 7, 15, 26, 7, 4, 1, 7, 16, 9, 43, 15, 2, 4, 1, 17, 4, 4, 16, 6, 11, 1, 3, 6, 18, 27, 8, 8, 6, 1, 4, 52, 4, 28, 6, 46, 32, 4, 0, 20, 21, 4, 5, 16, 18, 17, 4, 10, 13, 20, 2, 20, 18, 8, 1, 1, 37, 11, 3, 10, 4, 16, 3, 1, 9, 5, 13, 18, 4, 58, 1, 13, 8, 1, 16, 65, 10, 0, 4, 13, 7, 13, 3, 4, 2, 2, 15, 22, 0, 8, 11, 60, 1, 4, 7, 7, 1, 7, 1, 21, 26, 7, 9, 27, 7, 12, 6, 7, 1, 26, 2, 10, 10, 25, 6, 35, 8, 13, 4, 9, 5, 6, 3, 5, 11, 13, 30, 62, 10, 31, 10, 7, 1, 11, 12, 22, 15, 12, 6, 18, 11, 9, 7, 5, 15, 7, 23, 14, 0, 7, 3, 8, 33, 1, 11, 27, 1, 7, 29, 7, 6, 7, 35, 13, 7, 10, 0, 17, 0, 5, 10, 19, 0, 5, 3, 2, 13, 10, 22, 3, 8, 11, 10, 13, 3, 6, 8, 15, 11, 11, 9, 1, 15, 19, 13, 15, 5, 11, 6, 2, 6, 16, 13, 17, 1, 4, 0, 2, 10, 22, 8, 17, 2, 2, 7, 6, 16, 0, 2, 6, 27, 69, 0, 5, 4, 1, 18, 5, 11, 17, 3, 17, 10, 2, 3, 11, 4, 9, 33, 12, 1, 1, 4, 13, 7, 0, 7, 29, 1, 16, 4, 16, 10, 10, 4, 12, 32, 19, 13, 10, 10, 9, 4, 56, 31, 0, 14, 8, 18, 0, 33, 53, 4, 16, 4, 7, 5, 18, 43, 0, 23, 3, 57, 8, 2, 10, 4, 1, 6]\n",
      "[1, 20, 1, 25, 20, 1, 33, 20, 22, 4, 1, 62, 1, 1, 28, 9, 5, 18, 0, 22, 0, 16, 23, 3, 8, 3, 24, 19, 7, 26, 20, 6, 42, 58, 68, 36, 11, 37, 25, 1, 28, 1, 15, 36, 8, 7, 3, 5, 19, 21, 20, 33, 43, 55, 65, 45, 7, 7, 103, 10, 32, 24, 13, 8, 66, 4, 53, 28, 18, 29, 100, 3, 19, 37, 53, 0, 4, 14, 75, 28, 1, 4, 7, 4, 50, 15, 23, 33, 7, 7, 7, 6, 2, 70, 4, 4, 13, 27, 10, 3, 6, 11, 1, 14, 40, 23, 21, 8, 26, 44, 28, 70, 85, 115, 8, 0, 13, 7, 2, 75, 10, 19, 31, 34, 24, 9, 24, 7, 10, 9, 25, 28, 14, 3, 34, 13, 49, 8, 0, 25, 2, 0, 7, 10, 8, 0, 13, 16, 8, 3, 16, 16, 1, 1, 46, 4, 1, 7, 23, 15, 23, 12, 3, 5, 8, 6, 7, 4, 34, 65, 31, 7, 26, 12, 46, 60, 7, 19, 49, 1, 16, 8, 0, 19, 7, 34, 22, 16, 1, 62, 13, 19, 0, 4, 1, 10, 10, 22, 13, 16, 2, 6, 4, 6, 8, 21, 0, 12, 22, 59, 0, 70, 7, 28, 16, 8, 52, 2, 41, 6, 28, 12, 12, 44, 3, 8, 5, 44, 2, 19, 4, 1, 4, 24, 16, 1, 6, 4, 4, 47, 19, 28, 7, 1, 9, 0, 0, 3, 4, 9, 7]\n",
      "[19, 10, 0, 50, 1, 9, 17, 25, 28, 6, 12, 2, 13, 2, 36, 11, 17, 30, 20, 22, 1, 28, 3, 7, 8, 49, 22, 5, 15, 2, 42, 5, 10, 64, 6, 31, 5, 51, 9, 9, 0, 2, 6, 2, 10, 14, 36, 41, 45, 29, 28, 23, 45, 7, 1, 17, 13, 49, 3, 5, 6, 20, 11, 35, 10, 5, 0, 1, 11, 18, 5, 6, 47, 1, 25, 3, 8, 58, 6, 19, 19, 1, 4, 1, 8, 36, 2, 5, 6, 13, 30, 8, 4, 1, 8, 47, 2, 3, 30, 2, 6, 35, 7, 25, 4, 14, 4, 15, 4, 14, 16, 121, 29, 22, 4, 9, 10, 57, 19, 1, 16, 31, 42, 49, 23, 24, 7, 15, 7, 2, 0, 8, 7, 19, 46, 8, 49, 48, 1, 7, 49, 8, 6, 5, 12, 11, 28, 3, 4, 60, 133, 5, 3, 56, 56, 11, 13, 36, 35, 83, 27, 9, 3, 33, 31, 3, 8, 5, 11, 22, 11, 26, 0, 15, 32, 10, 16, 5, 15, 23, 15, 37, 25, 58, 5, 13, 41, 11, 0, 63, 13, 13, 23, 26, 44, 76, 19, 24, 24, 6, 14, 12, 0, 5, 1, 13, 19, 6, 4, 27, 33, 51, 51, 33, 0, 4, 8, 1, 40, 59, 0, 4, 33, 32, 9, 0, 5, 11, 20, 32, 14, 22, 0, 5, 8, 50, 35, 4, 16, 34, 1, 2, 5, 12, 36, 18, 4, 10, 15, 2, 11, 1, 3, 8, 16, 36, 8, 14, 5, 1, 50]\n",
      "[6, 21, 11, 20, 6, 10, 1, 9, 5, 41, 24, 23, 44, 1, 28, 2, 21, 21, 13, 1, 25, 1, 2, 18, 12, 23, 1, 30, 29, 16, 41, 3, 17, 27, 17, 1, 54, 10, 1, 19, 22, 9, 23, 30, 18, 5, 4, 46, 1, 10, 17, 2, 15, 21, 8, 3, 4, 1, 19, 52, 1, 10, 7, 70, 7, 3, 8, 5, 19, 15, 19, 22, 4, 5, 0, 28, 7, 4, 7, 17, 6, 2, 0, 5, 3, 22, 7, 4, 7, 17, 84, 7, 7, 17, 3, 7, 17, 13, 9, 16, 8, 20, 14, 17, 29, 30, 0, 40, 4, 25, 7, 11, 3, 4, 14, 0, 4, 20, 27, 31, 7, 20, 4, 10, 13, 62, 2, 14, 39, 7, 4, 11, 43, 18, 0, 12, 7, 37, 11, 6, 17, 10, 19, 19, 24, 8, 4, 12, 0, 6, 10, 7, 31, 16, 25, 19, 46, 14, 7, 28, 1, 0, 19, 16, 10, 5, 21, 4, 4, 1, 31, 1, 7, 16, 12, 10, 10, 31, 58, 4, 4, 3, 17, 1, 19, 7, 19, 16, 4, 7, 16, 31, 43, 10, 8, 24, 40, 34, 1, 94, 12, 0, 22, 15, 16, 1, 43, 13, 23, 3, 34, 15, 27, 12, 7, 10, 4, 34, 10, 4, 13, 25, 10, 7, 7, 5, 28, 33, 11, 1, 22, 15, 10, 7, 19, 31, 10, 37, 19, 7, 2, 12, 30, 5, 9, 21, 21, 1, 1, 4, 0, 34, 17, 37, 4, 11, 0, 2, 15, 1, 34, 10, 10, 49, 36, 9, 3, 20, 9, 7, 28, 20, 4, 16, 3, 4, 31, 13, 4, 10, 15, 16, 2, 10, 8, 4, 3, 17, 48, 13, 4, 5, 0, 14, 6, 2, 3, 13, 13, 6, 5, 18, 16, 85, 8, 11, 23, 47, 3, 47, 12, 13]\n",
      "[3, 0, 5, 14, 5, 7, 17, 3, 13, 8, 1, 6, 35, 10, 18, 2, 7, 17, 18, 17, 7, 6, 13, 15, 0, 1, 11, 3, 1, 4, 0, 13, 20, 33, 17, 10, 9, 7, 5, 6, 0, 3, 13, 4, 0, 16, 4, 31, 5, 3, 15, 16, 11, 3, 2, 10, 2, 1, 3, 13, 33, 11, 1, 19, 12, 1, 4, 4, 26, 1, 30, 41, 29, 35, 21, 0, 2, 8, 7, 2, 9, 10, 31, 7, 3, 2, 10, 7, 1, 4, 13, 15, 14, 13, 6, 11, 4, 16, 0, 3, 0, 19, 16, 3, 14, 22, 11, 3, 11, 0, 1, 7, 29, 2, 6, 1, 19, 0, 46, 17, 4, 4, 18, 13, 16, 17, 12, 4, 17, 7, 22, 2, 9, 9, 1, 2, 2, 15, 19, 3, 37, 21, 7, 0, 9, 17, 10, 2, 2, 18, 5, 4, 1, 2, 0, 22, 7, 14, 4, 9, 13, 0, 10, 14, 13, 0, 3, 7, 11, 5, 20, 7, 6, 8, 6, 1, 6, 4, 2, 11, 7, 15, 1, 11, 10, 9, 3, 1, 17, 3, 11, 26, 10, 12, 10, 21, 0, 2, 0, 13, 21, 0, 4, 5, 8, 6, 0, 1, 11, 5, 0, 0, 13, 5, 3, 8, 1, 9, 0, 28, 3, 0, 5, 6, 17, 0, 1, 2, 3, 34, 1, 4, 10, 2, 0, 15, 0, 0, 5, 3, 3, 6, 1, 3, 28, 5, 22, 1, 24, 7, 22, 4, 2, 6, 9, 22, 2, 13, 1, 7, 1, 13, 11, 4, 8, 10, 2, 6, 21, 1, 32, 13, 40, 10, 13, 26, 0, 1, 31, 1, 9, 12, 6, 9, 2, 2, 3, 4, 41, 3, 9, 8, 5, 22, 15, 9, 17, 31, 31, 7, 11, 45, 2, 27, 7, 16, 16, 7, 13, 26, 0, 34, 10, 3, 2, 32, 6, 19, 23, 9, 4, 0, 8, 10, 8, 7, 27, 8, 23, 13, 5, 0, 14, 6, 0, 0, 4, 2, 1, 1, 4, 16, 1, 0, 3, 17, 10, 5, 6, 7, 16, 3, 31, 8, 5, 0, 13, 3, 20, 17, 6, 9, 8, 9, 10, 29, 4, 42, 0, 18, 6, 0, 27, 7, 14, 18, 11, 5, 34, 5, 5, 34, 2, 5, 0, 13, 13, 7, 0, 16, 10, 0, 7, 10, 1, 26, 22, 0, 34, 2, 14, 11, 13, 8, 0, 27, 7, 15, 4, 18, 17, 0, 5, 4, 2, 8, 19, 11, 9, 2, 18, 22, 61, 12, 22, 43, 8, 11, 14, 10, 28, 14, 13, 0, 34, 9, 12]\n",
      "[17, 29, 1, 16, 19, 2, 19, 3, 1, 8, 19, 23, 27, 8, 6, 2, 8, 8, 2, 17, 9, 10, 4, 13, 1, 16, 10, 7, 1, 26, 11, 27, 26, 6, 14, 12, 15, 3, 4, 10, 8, 3, 5, 6, 6, 5, 0, 17, 4, 1, 7, 1, 7, 7, 26, 8, 8, 22, 25, 3, 13, 2, 16, 10, 15, 14, 9, 1, 3, 20, 10, 15, 36, 3, 4, 15, 21, 11, 14, 12, 5, 13, 7, 1, 7, 37, 15, 8, 21, 5, 4, 4, 7, 19, 19, 1, 5, 11, 5, 1, 4, 16, 10, 7, 4, 10, 13, 24, 13, 30, 2, 2, 22, 13, 1, 7, 8, 1, 16, 3, 13, 4, 15, 20, 6, 4, 5, 4, 6, 5, 10, 9, 11, 1, 13, 16, 4, 16, 3, 12, 6, 4, 1, 1, 1, 4, 25, 4, 22, 0, 11, 4, 4, 6, 8, 4, 16, 34, 3, 14, 1, 7, 3, 2, 6, 8, 9, 5, 10, 1, 22, 1, 8, 9, 10, 7, 13, 31, 1, 3, 26, 4, 5, 17, 1, 3, 21, 0, 16, 22, 6, 9, 2, 0, 36, 4, 6, 25, 16, 41, 6, 11, 22, 40, 6, 8, 1, 4, 1, 11, 8, 8, 19, 4, 1, 1, 1, 4, 4, 1, 16, 2, 2, 8, 31, 4, 1, 9, 2, 7, 1, 1, 20, 0, 0, 5, 34, 1, 6, 3, 22, 8, 7, 24, 16, 3, 5, 2, 1, 4, 1, 7, 4, 4, 1, 1, 6, 7, 2, 25, 10, 1, 0, 2, 16, 6, 2, 1, 1, 10, 16, 10, 1, 16, 4, 1, 3, 8, 13, 9, 5, 7, 7, 6, 2, 3, 2, 4, 1, 7, 4, 19, 7, 1, 1, 7, 7, 2, 6, 1, 1, 1, 1, 7, 1, 3, 2, 10, 24, 4, 17, 6, 5, 16, 1, 46, 7, 3, 2, 22, 7, 9, 43, 7, 20, 16, 15, 14, 1, 4, 34, 13, 7, 16, 7, 1, 1, 4, 1, 0, 2, 10, 4, 7, 1, 8, 10, 15, 1, 4, 9, 22, 13, 2, 6, 11, 12, 20, 2, 6, 7, 4, 22, 4, 5, 0, 27, 2, 15, 19, 10, 10, 8, 10, 1, 3, 2, 1, 13, 4, 7, 1, 4, 4, 4, 9, 2, 3, 6, 6, 0, 11, 44, 34, 8, 2, 1, 25, 34, 2, 8, 1, 13, 17, 12, 1, 2, 3, 11, 1, 1, 2, 12, 12, 2, 22, 10, 3, 2, 10, 4, 6, 5, 1, 19, 14, 13, 0, 0, 2, 4, 10, 16, 3, 7, 23, 10, 36, 9, 6, 9, 41, 2, 2, 0, 3, 1, 1, 7, 24, 2, 1, 7, 0, 28, 5, 1, 23, 23, 19, 13, 16, 4, 7, 7, 9, 20, 31, 22, 4, 4, 11, 12, 11, 0, 10, 10, 16, 2, 12]\n",
      "[8, 3, 22, 7, 7, 9, 41, 31, 6, 10, 7, 15, 4, 10, 2, 50, 1, 21, 9, 11, 0, 32, 4, 9, 20, 5, 14, 8, 15, 8, 2, 5, 29, 5, 35, 0, 4, 1, 49, 4, 4, 21, 14, 1, 3, 5, 10, 0, 1, 40, 5, 21, 38, 25, 31, 16, 6, 7, 1, 40, 1, 16, 22, 26, 6, 32, 3, 6, 8, 7, 1, 11, 6, 6, 9, 2, 20, 0, 2, 2, 0, 7, 17, 26, 2, 1, 1, 27, 23, 1, 0, 41, 30, 14, 15, 65, 10, 9, 11, 0, 17, 4, 1, 14, 0, 14, 7, 15, 48, 24, 1, 16, 18, 9, 6, 3, 0, 6, 31, 13, 3, 4, 17, 11, 5, 22, 10, 4, 22, 86, 14, 3, 7, 1, 24, 7, 11, 7, 0, 7, 4, 9, 4, 2, 11, 27, 24, 3, 3, 19, 25, 4, 10, 5, 2, 6, 95, 15, 5, 11, 0, 8, 10, 12, 0, 3, 6, 5, 1, 31, 1, 48, 1, 7, 11, 2, 11, 8, 54, 8, 1, 1, 3, 9, 20, 10, 24, 22, 2, 33, 9, 34, 6, 22, 0, 53, 3, 17, 18, 11, 9, 59, 6, 5, 6, 32, 30, 26, 7, 37, 24, 7, 13, 38, 1, 30, 31, 31, 19, 2, 7, 51, 11, 6, 8, 18, 2, 16, 24, 4, 10, 21, 11, 28, 1, 13, 11, 1, 0, 26, 5, 1, 12, 18, 39, 30, 7, 13, 13, 14, 5, 4, 19, 2, 10, 6, 27, 5, 29, 3, 2, 0, 2, 14, 22, 4, 11, 2, 3, 18, 39, 6, 14, 47, 116, 10, 47, 16, 10, 18, 28, 18, 11, 0, 38, 22, 10, 7, 13, 14, 15, 40, 1, 3, 26, 28, 1, 10, 54, 5, 20, 4, 68, 27, 24, 23, 16, 6, 12, 4, 16, 13, 11, 2, 14, 34, 98, 3, 15, 19]\n",
      "[0, 16, 4, 14, 7, 1, 3, 11, 8, 19, 8, 4, 9, 4, 0, 6, 18, 0, 14, 19, 14, 7, 1, 1, 0, 32, 8, 3, 20, 0, 10, 10, 5, 9, 4, 24, 6, 11, 18, 44, 7, 1, 1, 4, 6, 1, 13, 8, 25, 22, 8, 24, 67, 7, 7, 19, 19, 32, 6, 10, 4, 1, 25, 2, 2, 59, 85, 1, 30, 13, 30, 44, 7, 0, 2, 49, 10, 40, 6, 10, 2, 24, 23, 21, 8, 39, 31, 5, 7, 13, 10, 1, 42, 17, 0, 2, 15, 1, 17, 40, 4, 4, 22, 17, 15, 4, 49, 4, 2, 3, 39, 35, 48, 5, 0, 28, 8, 10, 31, 9, 2, 16, 9, 7, 5, 55, 19, 13, 7, 22, 4, 33, 22, 19, 8, 9, 6, 5, 2, 4, 12, 28, 6, 6, 23, 16, 35, 51, 32, 6, 40, 2, 43, 10, 4, 31, 15, 10, 8, 12, 11, 22, 6, 5, 80, 11, 14, 0, 24, 3, 70, 36, 13, 22, 46, 1, 47, 6, 34, 10, 8, 21, 5, 3, 7, 22, 13, 13, 22, 5, 3, 0, 8, 19, 6, 2, 0, 5, 0, 8, 0, 8, 0, 19, 10, 4, 2, 19, 0, 16, 2, 28, 34, 0, 53, 10, 3, 17, 4, 21, 41, 19, 19, 16, 13, 6, 10, 2, 10, 24, 12, 2, 39, 33, 10, 7, 4, 7, 19, 54, 2, 19, 1, 0, 26, 4, 7, 10, 19, 7, 1, 16, 0, 8, 1, 34, 16, 10, 4, 1, 13, 0, 2, 0, 1, 32, 13, 7, 1, 18, 11, 1, 8, 6, 12, 9, 20, 1, 9, 12, 19, 16, 1, 2, 3, 10, 19, 10, 25, 16, 10, 25, 51, 20, 103, 34, 10, 67, 4, 20, 6, 3, 37, 9, 4, 2, 13, 1, 13, 14, 31, 3, 13, 4, 4, 9, 0, 0, 1, 0, 2, 6, 15, 21, 1, 28, 7]\n",
      "[2, 23, 25, 39, 17, 93, 13, 13, 19, 2, 9, 10, 8, 5, 12, 17, 14, 8, 14, 12, 3, 13, 2, 45, 38, 6, 23, 4, 6, 10, 5, 12, 25, 3, 11, 13, 7, 17, 45, 5, 3, 15, 4, 9, 0, 19, 22, 2, 10, 9, 3, 3, 6, 7, 16, 1, 8, 6, 13, 10, 5, 2, 2, 1, 50, 24, 37, 7, 1, 24, 31, 11, 13, 1, 21, 19, 8, 3, 5, 5, 7, 12, 0, 22, 11, 65, 6, 35, 12, 40, 4, 4, 97, 40, 16, 9, 17, 25, 9, 34, 18, 1, 7, 6, 1, 0, 22, 5, 6, 18, 14, 2, 29, 15, 33, 3, 18, 18, 5, 4, 5, 7, 15, 2, 1, 3, 11, 2, 56, 15, 27, 0, 5, 2, 3, 1, 4, 6, 3, 10, 4, 42, 13, 0, 3, 15, 27, 17, 2, 13, 8, 50, 10, 22, 24, 4, 12, 6, 8, 4, 1, 30, 16, 1, 4, 2, 40, 3, 9, 8, 28, 14, 10, 1, 9, 8, 0, 10, 8, 15, 4, 2, 6, 3, 32, 13, 17, 14, 3, 7, 3, 13, 19, 8, 7, 9, 16, 10, 3, 22, 8, 7, 27, 26, 3, 5, 16, 16, 2, 20, 9, 11, 8, 5, 27, 43, 4, 19, 3, 108, 32, 39, 11, 3, 38, 44, 2, 38, 2, 6, 7, 24, 44, 1, 17, 0, 1, 14, 12, 32, 10, 14, 13, 22, 2, 34, 2, 19, 25, 31, 83, 6, 9, 3, 9, 5, 2, 25, 2, 5, 2, 4, 9, 29, 60, 20, 6, 49, 21, 11, 0, 34, 19, 34, 2, 5, 15, 22, 24, 10, 7, 1, 3, 14, 35, 6, 0, 6, 3, 13, 15, 26, 3, 14, 1, 3, 15, 19, 9, 4, 12, 26, 4, 2, 1, 5, 11, 19, 9, 2, 6, 10, 9, 24, 41, 19, 55, 7, 24, 14, 56, 4, 7, 16, 49]\n",
      "[39, 38, 35, 6, 1, 98, 4, 6, 12, 12, 3, 27, 34, 37, 53, 19, 13, 45, 38, 11, 6, 7, 79, 13, 2, 12, 14, 12, 44, 54, 2, 18, 13, 10, 19, 7, 10, 11, 6, 1, 18, 0, 4, 12, 25, 34, 10, 7, 27, 8, 15, 8, 28, 61, 8, 14, 2, 37, 25, 45, 39, 17, 38, 29, 71, 86, 1, 56, 6, 13, 19, 10, 55, 73, 25, 16, 30, 14, 30, 6, 48, 15, 11, 74, 8, 82, 15, 25, 0, 17, 2, 11, 62, 28, 58, 8, 4, 1, 21, 25, 11, 45, 19, 44, 10, 1, 15, 34, 17, 6, 3, 27, 3, 13, 38, 12, 10, 1, 19, 1, 19, 1, 1, 16, 1, 7, 31, 3, 8, 19, 24, 20, 6, 8, 4, 10, 9, 2, 33, 2, 4, 1, 19, 3, 45, 9, 19, 3, 8, 36, 53, 9, 28, 37, 28, 28, 40, 2, 42, 10, 33, 3, 13, 12, 32, 3, 14, 26, 10, 6, 10, 4, 14, 12, 43, 1, 9, 58, 19, 5, 31, 15, 19, 25, 17, 16, 6, 49, 7, 62, 0, 9, 20, 22, 19, 35, 6, 19, 1, 23, 36, 11, 2, 26, 16, 47, 6, 13, 7, 50, 10, 18, 12, 12, 19, 5, 40, 6, 33, 17, 2, 4, 15, 27, 5, 9, 28, 14, 4, 11, 72, 33, 25, 63, 2, 25, 1, 56]\n",
      "[10, 9, 53, 13, 28, 2, 28, 0, 1, 7, 9, 8, 30, 18, 7, 3, 77, 23, 66, 4, 9, 8, 4, 58, 8, 6, 5, 1, 6, 2, 11, 21, 6, 16, 1, 7, 31, 17, 0, 26, 5, 11, 1, 10, 9, 6, 0, 25, 12, 14, 40, 0, 2, 11, 1, 4, 12, 2, 6, 0, 36, 4, 4, 39, 0, 3, 4, 1, 18, 6, 46, 2, 18, 5, 0, 18, 6, 3, 94, 43, 1, 8, 32, 44, 0, 7, 14, 12, 14, 17, 1, 21, 3, 16, 6, 41, 2, 1, 4, 6, 28, 1, 47, 24, 0, 12, 5, 34, 41, 1, 16, 3, 15, 0, 13, 5, 25, 7, 19, 2, 16, 5, 1, 1, 59, 22, 0, 17, 17, 20, 13, 6, 10, 41, 39, 5, 9, 47, 4, 19, 1, 15, 3, 0, 12, 36, 26, 23, 7, 22, 40, 23, 24, 1, 22, 7, 7, 16, 11, 36, 26, 59, 3, 42, 8, 1, 11, 34, 28, 4, 2, 6, 4, 4, 5, 0, 20, 9, 1, 8, 14, 2, 20, 9, 13, 8, 24, 1, 19, 4, 4, 27, 2, 2, 6, 15, 21, 6, 1, 31, 1, 1, 9, 5, 6, 2, 4, 4, 7, 13, 21, 10, 23, 6, 23, 2, 9, 8, 24, 12, 2, 22, 2, 3, 30, 4, 16, 0, 5, 8, 7, 41, 9, 21, 4, 7, 6, 13, 0, 4, 28, 1, 37, 4, 34, 11, 59, 15, 39, 18, 8, 10, 7, 5, 26, 3, 8, 12, 5, 28, 3, 34, 6, 1, 55, 5, 8, 36, 47, 6, 1, 2, 2, 1, 5, 16, 53, 5, 15, 6, 3, 6, 11, 3, 5, 4, 37, 16, 19, 3, 35, 1, 8, 3, 13, 5, 17, 14, 5, 15, 3, 7, 18, 28, 4, 1, 10, 2, 10, 16, 5, 5, 5, 5, 24, 8, 9, 1, 5, 13, 16, 34, 1, 13, 30, 4, 13, 18, 1, 17, 27, 17, 11, 3, 19, 5, 21, 17, 10, 1, 0, 19, 10, 0, 0, 17, 11]\n",
      "[15, 5, 8, 43, 79, 32, 1, 14, 44, 7, 21, 0, 7, 21, 41, 2, 16, 5, 10, 13, 24, 2, 54, 121, 14, 6, 1, 2, 12, 1, 25, 66, 5, 18, 15, 72, 21, 35, 1, 10, 43, 22, 10, 19, 18, 3, 64, 35, 20, 4, 13, 12, 19, 19, 17, 15, 16, 14, 7, 21, 59, 31, 3, 4, 41, 15, 0, 8, 11, 19, 7, 15, 2, 7, 14, 29, 16, 18, 27, 13, 16, 1, 10, 28, 3, 53, 63, 80, 40, 17, 2, 2, 22, 19, 1, 10, 7, 7, 7, 10, 27, 10, 9, 2, 81, 37, 5, 16, 5, 26, 12, 10, 9, 2, 10, 4, 51, 3, 2, 8, 5, 11, 133, 21, 40, 19, 53, 25, 2, 67, 23, 18, 2, 24, 10, 25, 2, 94, 6, 46, 48, 78, 19, 6, 2, 19, 10, 15, 2, 11, 3, 13, 8, 0, 19, 1, 39, 1, 7, 2, 1, 1, 19, 10, 4, 10, 9, 5, 3, 13, 26, 1, 1, 4, 4, 16, 14, 20, 32, 33, 60, 7, 6, 12, 6, 48, 60, 14, 5, 12, 4, 12, 1, 32, 40, 65, 0, 6, 11, 15, 8, 52, 9, 52, 27, 17, 29, 14, 6, 4, 27, 4, 40, 58, 12, 0, 13, 26, 15, 4, 7, 11, 7, 35, 8, 13, 21, 7, 3, 8, 2, 11, 53, 40, 6, 44, 3, 8, 16, 10, 4, 10, 19, 0, 4, 8, 14, 6, 25, 2, 10, 5, 57, 11, 8, 37, 5]\n",
      "[11, 21, 11, 18, 17, 1, 1, 25, 1, 23, 3, 7, 7, 0, 2, 7, 11, 7, 8, 24, 7, 18, 39, 0, 28, 2, 10, 9, 28, 25, 5, 0, 6, 8, 1, 36, 23, 1, 5, 0, 4, 5, 9, 15, 3, 12, 2, 3, 1, 1, 13, 10, 32, 2, 14, 49, 17, 21, 6, 2, 54, 16, 4, 4, 25, 19, 3, 37, 7, 2, 16, 10, 24, 7, 3, 2, 2, 15, 14, 1, 10, 5, 1, 21, 0, 4, 2, 15, 2, 5, 0, 1, 13, 10, 58, 1, 0, 5, 7, 1, 19, 3, 14, 16, 29, 7, 21, 13, 4, 6, 14, 17, 5, 14, 1, 3, 2, 1, 4, 3, 2, 13, 1, 7, 15, 5, 1, 4, 10, 17, 27, 17, 0, 7, 10, 3, 9, 0, 3, 0, 6, 2, 15, 25, 17, 9, 11, 6, 10, 7, 0, 4, 14, 1, 4, 15, 5, 7, 4, 13, 7, 14, 18, 19, 10, 16, 25, 10, 1, 1, 6, 1, 6, 21, 1, 21, 94, 8, 16, 63, 33, 1, 23, 7, 14, 6, 6, 4, 2, 1, 4, 4, 1, 7, 13, 4, 40, 15, 23, 10, 13, 7, 7, 13, 11, 10, 6, 1, 10, 3, 5, 2, 12, 41, 6, 9, 47, 2, 6, 1, 21, 28, 7, 25, 4, 10, 1, 1, 0, 2, 13, 29, 23, 2, 13, 16, 10, 11, 0, 7, 4, 13, 10, 4, 4, 4, 9, 1, 17, 4, 1, 7, 9, 13, 11, 4, 16, 9, 2, 1, 7, 3, 5, 10, 4, 4, 2, 0, 1, 36, 2, 9, 38, 13, 16, 45, 2, 16, 1, 1, 10, 18, 40, 2, 4, 7, 37, 13, 8, 34, 0, 1, 10, 1, 13, 10, 4, 1, 1, 34, 10, 11, 15, 11, 0, 7, 26, 21, 6, 6, 15, 7, 1, 10, 11, 15, 0, 5, 1, 7, 10, 1, 0, 2, 12, 3, 29, 0, 11, 2, 58, 1, 1, 22, 4, 29, 8, 7, 14, 75, 2, 1, 7, 0, 67, 6, 3, 17, 3, 31, 4, 25, 0, 8, 37, 8, 26, 2, 16, 17, 1, 18, 13, 9, 18, 11, 2, 16, 41, 15, 29, 12, 10, 13, 7, 12, 5, 13, 8, 6, 30, 2, 1, 6, 5, 14, 2, 10, 4, 1, 10, 24, 14, 13, 12, 8, 7, 67, 11, 25, 12, 1, 14, 27]\n",
      "[9, 9, 16, 16, 42, 8, 14, 15, 11, 5, 16, 6, 11, 17, 0, 34, 2, 71, 18, 54, 2, 9, 34, 13, 10, 9, 27, 4, 4, 1, 3, 10, 9, 21, 30, 22, 12, 20, 9, 17, 1, 2, 2, 8, 10, 0, 9, 4, 0, 13, 10, 10, 2, 10, 2, 32, 6, 2, 7, 2, 4, 3, 16, 6, 2, 43, 42, 1, 2, 5, 42, 23, 5, 4, 7, 7, 1, 4, 5, 13, 1, 52, 3, 57, 32, 12, 76, 1, 12, 3, 35, 10, 32, 24, 8, 69, 16, 45, 8, 16, 47, 1, 18, 29, 0, 38, 6, 5, 7, 23, 22, 10, 24, 1, 0, 25, 11, 36, 5, 4, 52, 21, 0, 8, 30, 43, 5, 8, 6, 0, 15, 28, 1, 3, 20, 17, 3, 0, 48, 59, 31, 4, 19, 56, 1, 43, 26, 14, 4, 10, 30, 21, 22, 8, 2, 1, 8, 34, 11, 0, 9, 76, 25, 22, 10, 4, 28, 79, 57, 20, 46, 20, 43, 36, 1, 58, 42, 1, 6, 8, 60, 0, 3, 44, 8, 23, 42, 38, 9, 21, 25, 58, 25, 42, 66, 24, 20, 3, 86, 31, 9, 7, 22, 19, 2, 97, 3, 7, 19, 6, 4, 9, 16, 16, 0, 75, 0, 19, 16, 27, 15, 8, 2, 8, 24, 10, 10, 15, 5, 18, 1, 47, 14, 12, 18, 17, 1, 4, 4, 1, 23, 26, 5, 5, 5, 8, 38, 47, 81, 36, 6, 33, 32, 1, 0, 1, 1, 23, 43, 1, 6, 1, 10, 21, 0, 3, 14]\n",
      "[14, 130, 3, 31, 5, 162, 12, 40, 8, 3, 7, 25, 13, 50, 61, 8, 4, 17, 21, 17, 57, 8, 19, 118, 8, 4, 82, 0, 39, 9, 6, 3, 11, 27, 12, 17, 13, 11, 8, 12, 40, 57, 3, 3, 28, 3, 20, 6, 8, 53, 7, 3, 3, 8, 37, 7, 23, 4, 1, 18, 15, 53, 28, 30, 17, 2, 57, 13, 24, 15, 13, 40, 1, 24, 27, 14, 20, 1, 27, 59, 13, 9, 13, 14, 1, 33, 1, 10, 7, 3, 43, 15, 2, 54, 25, 13, 62, 47, 13, 13, 98, 43, 2, 12, 30, 5, 2, 6, 12, 12, 18, 26, 2, 0, 5, 44, 11, 46, 2, 67, 31, 1, 1, 28, 43, 18, 3, 9, 1, 0, 74, 46, 45, 38, 19, 58, 56, 13, 78, 7, 16, 11, 39, 5, 177, 69, 13, 2, 18, 1, 36, 53, 38, 0, 12, 16, 79, 85, 0, 26, 1, 1, 0, 53, 19, 31, 0, 43, 1, 110, 23, 50, 28, 24, 21, 10, 26, 15, 28, 1, 26, 16, 52, 19, 11, 59, 48, 15, 27, 39, 14, 6, 21, 6, 60, 18, 56, 2]\n"
     ]
    }
   ],
   "source": [
    "def calc(seq):\n",
    "    dnt = ['AA','AT','AG','AC', \n",
    "           'TA','TT','TG','TC', \n",
    "           'GA','GT','GG','GC', \n",
    "           'CA','CT','CG','CC'] \n",
    "\n",
    "    all_counts = {} \n",
    "    for x in dnt: \n",
    "        count = seq.count(x) \n",
    "        #print(\"count is \" + str(count) + \" for \" + x) \n",
    "        all_counts[x] = count \n",
    "    print(all_counts)\n",
    "    \n",
    "    # all_freqs = {}\n",
    "    # for key, val in all_counts.items():\n",
    "    #     all_freqs[key] = val / len(seq)\n",
    "    # print(all_freqs)\n",
    "\n",
    "    for x in dnt:\n",
    "        print([len(i) for i in seq.split(str(x))][:-1])\n",
    "\n",
    "\n",
    "\n",
    "\n",
    "calc(dna)\n",
    "\n",
    "\n",
    "\n",
    "\n",
    "\n"
   ]
  },
  {
   "cell_type": "code",
   "execution_count": 5,
   "metadata": {},
   "outputs": [],
   "source": [
    "# sv40 =\"sv40.txt\"\n",
    "# f = open(sv40, \"r\")\n",
    "# sv40 = f.read()\n",
    "   \n",
    "# sv40 = sv40.replace(\"\\n\", \"\") \n",
    "# sv40 = sv40.replace(\"\\r\", \"\")\n",
    "# sv40 = sv40.upper()\n",
    "# print(sv40)"
   ]
  },
  {
   "cell_type": "code",
   "execution_count": 6,
   "metadata": {},
   "outputs": [],
   "source": [
    "# def count(seq):\n",
    "#     dnt = ['AA','AT','AG','AC', \n",
    "#            'TA','TT','TG','TC', \n",
    "#            'GA','GT','GG','GC', \n",
    "#            'CA','CT','CG','CC'] \n",
    "#     all_counts = {} \n",
    "#     for x in dnt: \n",
    "#         count = seq.count(x) \n",
    "#         #print(\"count is \" + str(count) + \" for \" + x) \n",
    "#         all_counts[x] = count \n",
    "#     print(all_counts)\n",
    "    \n",
    "#     all_freqs = {}\n",
    "#     for key, val in all_counts.items():\n",
    "#         all_freqs[key] = val / len(seq)\n",
    "#     print(all_freqs)\n",
    "    \n",
    "\n",
    "# count(sv40)\n",
    "\n",
    "\n",
    "\n",
    "\n"
   ]
  }
 ],
 "metadata": {
  "kernelspec": {
   "display_name": "Python 3.8.5 64-bit",
   "language": "python",
   "name": "python3"
  },
  "language_info": {
   "codemirror_mode": {
    "name": "ipython",
    "version": 3
   },
   "file_extension": ".py",
   "mimetype": "text/x-python",
   "name": "python",
   "nbconvert_exporter": "python",
   "pygments_lexer": "ipython3",
   "version": "3.8.5"
  },
  "orig_nbformat": 4,
  "vscode": {
   "interpreter": {
    "hash": "8b2ab96d7c9203e6eb83050b368ab9795a8b43397e95e46a57f8eda58d1d9a7f"
   }
  }
 },
 "nbformat": 4,
 "nbformat_minor": 2
}
